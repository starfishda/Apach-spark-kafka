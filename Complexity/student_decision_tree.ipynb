{
 "cells": [
  {
   "cell_type": "code",
   "execution_count": 1,
   "metadata": {},
   "outputs": [],
   "source": [
    "import operator\n",
    "from pyspark import SparkContext\n",
    "from pyspark.sql import SQLContext\n",
    "from pyspark.sql.functions import col\n",
    "import numpy as np\n",
    "# Uncomment the following line to install networkx\n",
    "# !pip install networkx\n",
    "import networkx as nx\n",
    "from matplotlib import pyplot as plt\n",
    "\n",
    "%matplotlib inline"
   ]
  },
  {
   "cell_type": "code",
   "execution_count": 2,
   "metadata": {},
   "outputs": [],
   "source": [
    "sc = SparkContext(master=\"local[*]\", appName=\"Decision Tree\")\n",
    "sqlContext = SQLContext(sc)\n",
    "attr_name_info_gain = {}\n",
    "G = nx.DiGraph()"
   ]
  },
  {
   "cell_type": "code",
   "execution_count": 3,
   "metadata": {},
   "outputs": [],
   "source": [
    "attrs = [\"gender\",\"lover\",\"gpa\",\"laptop\"]\n",
    "attrs_type = {\"gender\":\"string\",\"lover\":\"string\",\"gpa\":\"string\",\"laptop\":\"string\"}"
   ]
  },
  {
   "cell_type": "code",
   "execution_count": 4,
   "metadata": {},
   "outputs": [],
   "source": [
    "def calculate_info_gain(entropy, joined_df, total_elements):\n",
    "    attr_entropy = 0.0\n",
    "    for anAttributeData in joined_df.rdd.collect():\n",
    "        yes_class_count = anAttributeData[1]\n",
    "        no_class_count = anAttributeData[2]\n",
    "        if yes_class_count is None:\n",
    "            yes_class_count = 0\n",
    "        elif no_class_count is None:\n",
    "            no_class_count = 0\n",
    "\n",
    "        count_of_class = yes_class_count + no_class_count\n",
    "        classmap = {'a' : yes_class_count, 'u' : no_class_count}\n",
    "        attr_entropy = attr_entropy + ((count_of_class / total_elements) *\\\n",
    "                                       calculate_entropy(count_of_class, classmap))\n",
    "\n",
    "    gain = entropy - attr_entropy\n",
    "\n",
    "    return gain"
   ]
  },
  {
   "cell_type": "code",
   "execution_count": 5,
   "metadata": {},
   "outputs": [],
   "source": [
    "def get_attr_info_gain_data_prep(attr_name, data, entropy, total_elements, where_condition):\n",
    "\n",
    "    if not where_condition:\n",
    "        attr_grp_y = data.where(col('destination') == 'a').groupBy(attr_name).agg({\"destination\": 'count'})\\\n",
    "            .withColumnRenamed('count(destination)','played_count')\n",
    "    else:\n",
    "        attr_grp_y = data.where(\" destination like '%a%'  \" + where_condition).groupBy(attr_name).agg({\"destination\": 'count'})\\\n",
    "            .withColumnRenamed('count(destination)','played_count')\n",
    "\n",
    "    if not where_condition:\n",
    "        attr_grp_n = data.where(col('destination') == 'u').groupBy(attr_name).agg({\"destination\": 'count'})\\\n",
    "            .withColumnRenamed(attr_name,'n_' + attr_name)\\\n",
    "            .withColumnRenamed('count(destination)','not_played_count')\n",
    "    else:\n",
    "        attr_grp_n = data.where(\" destination like '%u%'  \" + where_condition).groupBy(attr_name).agg({\"destination\": 'count'})\\\n",
    "            .withColumnRenamed(attr_name,'n_' + attr_name)\\\n",
    "            .withColumnRenamed('count(destination)','not_played_count')\n",
    "\n",
    "    joined_df = attr_grp_y.join(attr_grp_n, on = [col(attr_grp_y.columns[0]) == col(attr_grp_n.columns[0])], how='outer' )\\\n",
    "        .withColumn(\"total\", col(attr_grp_y.columns[0]) + col(attr_grp_n.columns[0]))\\\n",
    "        .select(attr_grp_y.columns[0], attr_grp_y.columns[1],\\\n",
    "                 attr_grp_n.columns[1]) \\\n",
    "\n",
    "    gain_for_attribute = calculate_info_gain(entropy, joined_df, total_elements)\n",
    "    attr_name_info_gain[attr_name] = gain_for_attribute"
   ]
  },
  {
   "cell_type": "code",
   "execution_count": 6,
   "metadata": {},
   "outputs": [],
   "source": [
    "def calculate_entropy(total_elements, elements_in_each_class):\n",
    "    # for target set S having 2 class 0 and 1, the entropy is -p0logp0 -p1logp1\n",
    "    # here the log is of base 2\n",
    "    # elements_in_each_class is a dictionary where the key is class label and the\n",
    "    # value is number of elements in that class\n",
    "    keysInMap = list(elements_in_each_class.keys())\n",
    "    entropy = 0.0\n",
    "\n",
    "    for aKey in keysInMap:\n",
    "        number_of_elements_in_class = elements_in_each_class.get(aKey)\n",
    "        if number_of_elements_in_class == 0:\n",
    "            continue\n",
    "        ratio = number_of_elements_in_class/total_elements\n",
    "        entropy = entropy - ratio * np.log2(ratio)\n",
    "\n",
    "    return entropy"
   ]
  },
  {
   "cell_type": "code",
   "execution_count": 7,
   "metadata": {},
   "outputs": [],
   "source": [
    "def process_dataset(excludedAttrs, data, played, notplayed, where_condition):\n",
    "    total_elements = played + notplayed\n",
    "    subs_info = {\"played\" : played, \"notplayed\" : notplayed}\n",
    "    entropy = calculate_entropy(total_elements, subs_info)\n",
    "    print (\"entropy is \" + str(entropy))\n",
    "    global attr_name_info_gain\n",
    "    attr_name_info_gain = dict()\n",
    "\n",
    "    for attr in attrs:\n",
    "        if attr not in excludedAttrs:\n",
    "            get_attr_info_gain_data_prep(attr, data, entropy, total_elements, where_condition)"
   ]
  },
  {
   "cell_type": "code",
   "execution_count": 8,
   "metadata": {},
   "outputs": [],
   "source": [
    "def build_tree(max_gain_attr, processed_attrs, data, where_condition):\n",
    "    attrValues = sqlContext.sql(\"select distinct \" + max_gain_attr + \" from data  where 1==1 \" + where_condition)\n",
    "    orig_where_condition = where_condition\n",
    "\n",
    "    for aValueForMaxGainAttr in attrValues.rdd.collect():\n",
    "        adistinct_value_for_attr = aValueForMaxGainAttr[0]\n",
    "        G.add_edges_from([(max_gain_attr, adistinct_value_for_attr)])\n",
    "\n",
    "        if attrs_type[max_gain_attr] == \"string\":\n",
    "            where_condition = str(orig_where_condition + \" and \" + max_gain_attr + \"=='\" + adistinct_value_for_attr + \"'\")\n",
    "        else:\n",
    "            where_condition = str(orig_where_condition + \" and \" + max_gain_attr + \"==\" + adistinct_value_for_attr)\n",
    "\n",
    "        played_for_attr = sqlContext.sql(\"select * from data where destination like '%a%' \" + where_condition).count()\n",
    "        notplayed_for_attr = sqlContext.sql(\"select * from data where destination like '%u%' \" + where_condition).count()\n",
    "        # if either has zero value then entropy for this attr will be zero and its the last attr in the tree\n",
    "        leaf_values = []\n",
    "        if played_for_attr == 0 or notplayed_for_attr == 0:\n",
    "            leaf_node = sqlContext.sql(\"select distinct destination from data where 1==1 \" + where_condition)\n",
    "            for leaf_node_data in leaf_node.rdd.collect():\n",
    "                G.add_edges_from([(adistinct_value_for_attr, str(leaf_node_data[0]))])\n",
    "            continue\n",
    "        process_dataset(processed_attrs, data, played_for_attr, notplayed_for_attr, where_condition)\n",
    "        if not attr_name_info_gain: # we processed all attributes\n",
    "            # attach leaf node\n",
    "            leaf_node = sqlContext.sql(\"select distinct destination from data where 1==1 \" + where_condition)\n",
    "            for leaf_node_data in leaf_node.rdd.collect():\n",
    "                G.add_edges_from([(adistinct_value_for_attr, str(leaf_node_data[0]))])\n",
    "            continue # we are done for this branch of tree\n",
    "\n",
    "        # get the attr with max info gain under aValueForMaxGainAttr\n",
    "        # sort by info gain\n",
    "        sorted_by_info_gain = sorted(attr_name_info_gain.items(), key=operator.itemgetter(1), reverse=True)\n",
    "        new_max_gain_attr = sorted_by_info_gain[0][0]\n",
    "        if sorted_by_info_gain[0][1] == 0:\n",
    "            # under this where condition, records dont have entropy\n",
    "            leaf_node = sqlContext.sql(\"select distinct destination from data where 1==1 \" + where_condition)\n",
    "            # there might be more than one leaf node\n",
    "            for leaf_node_data in leaf_node.rdd.collect():\n",
    "                G.add_edges_from([(adistinct_value_for_attr, str(leaf_node_data[0]))])\n",
    "            continue # we are done for this branch of tree\n",
    "\n",
    "        G.add_edges_from([(adistinct_value_for_attr, new_max_gain_attr)])\n",
    "        processed_attrs.append(new_max_gain_attr)\n",
    "        build_tree(new_max_gain_attr, processed_attrs, data, where_condition)"
   ]
  },
  {
   "cell_type": "code",
   "execution_count": 9,
   "metadata": {},
   "outputs": [
    {
     "name": "stdout",
     "output_type": "stream",
     "text": [
      "entropy is 0.9612366047228759\n",
      "entropy is 0.9910760598382222\n",
      "entropy is 0.8112781244591328\n",
      "entropy is 0.9182958340544896\n"
     ]
    },
    {
     "name": "stderr",
     "output_type": "stream",
     "text": [
      "C:\\Users\\starf\\Anaconda3\\lib\\site-packages\\networkx\\drawing\\nx_pylab.py:579: MatplotlibDeprecationWarning: \n",
      "The iterable function was deprecated in Matplotlib 3.1 and will be removed in 3.3. Use np.iterable instead.\n",
      "  if not cb.iterable(width):\n",
      "C:\\Users\\starf\\Anaconda3\\lib\\site-packages\\networkx\\drawing\\nx_pylab.py:676: MatplotlibDeprecationWarning: \n",
      "The iterable function was deprecated in Matplotlib 3.1 and will be removed in 3.3. Use np.iterable instead.\n",
      "  if cb.iterable(node_size):  # many node sizes\n",
      "C:\\Users\\starf\\Anaconda3\\lib\\site-packages\\ipykernel_launcher.py:16: UserWarning: This figure includes Axes that are not compatible with tight_layout, so results might be incorrect.\n",
      "  app.launch_new_instance()\n"
     ]
    },
    {
     "data": {
      "image/png": "[encoded data removed]",
      "text/plain": [
       "<Figure size 432x288 with 1 Axes>"
      ]
     },
     "metadata": {},
     "output_type": "display_data"
    }
   ],
   "source": [
    "data = sqlContext.read.format('com.databricks.spark.csv').option('header', 'true')\\\n",
    "        .option('delimiter', ';').load(\"usau_dataset.txt\")\n",
    "\n",
    "data.registerTempTable('data')\n",
    "played = sqlContext.sql(\"select * from data WHERE destination like  '%a%' \").count()\n",
    "notplayed = sqlContext.sql(\"select * from data WHERE destination like  '%u%' \").count()\n",
    "process_dataset([], data, played, notplayed, '')\n",
    "# sort by info gain\n",
    "sorted_by_info_gain = sorted(attr_name_info_gain.items(), key=operator.itemgetter(1), reverse=True)\n",
    "\n",
    "processed_attrs = []\n",
    "max_gain_attr = sorted_by_info_gain[0][0]\n",
    "processed_attrs.append(max_gain_attr)\n",
    "build_tree(max_gain_attr, processed_attrs, data, '')\n",
    "nx.draw(G, with_labels=True)\n",
    "plt.tight_layout()\n",
    "plt.savefig(\"Graph.png\", format=\"png\")"
   ]
  },
  {
   "cell_type": "code",
   "execution_count": 10,
   "metadata": {},
   "outputs": [],
   "source": [
    "sc.stop()"
   ]
  }
 ],
 "metadata": {
  "kernelspec": {
   "display_name": "Python 3",
   "language": "python",
   "name": "python3"
  },
  "language_info": {
   "codemirror_mode": {
    "name": "ipython",
    "version": 3
   },
   "file_extension": ".py",
   "mimetype": "text/x-python",
   "name": "python",
   "nbconvert_exporter": "python",
   "pygments_lexer": "ipython3",
   "version": "3.7.4"
  }
 },
 "nbformat": 4,
 "nbformat_minor": 2
}
